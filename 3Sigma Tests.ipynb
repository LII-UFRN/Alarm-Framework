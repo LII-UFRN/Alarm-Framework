{
 "cells": [
  {
   "cell_type": "code",
   "execution_count": 1,
   "metadata": {},
   "outputs": [],
   "source": [
    "from time import time\n",
    "\n",
    "import numpy as np\n",
    "import pandas as pd\n",
    "\n",
    "from alarm_framework.alarm_tunnig.sig3 import*\n"
   ]
  },
  {
   "cell_type": "code",
   "execution_count": 2,
   "metadata": {},
   "outputs": [],
   "source": [
    "def generate_sgi3_one_proc_var():\n",
    "    proc_vars = ['XMEAS01']\n",
    "    proc_data = np.random.normal(0, 1, size=(100, len(proc_vars)))\n",
    "    proc_index = pd.DatetimeIndex(start=time(), periods=len(proc_data), freq='36S')\n",
    "    proc_df = pd.DataFrame(data=proc_data, index=proc_index, columns=proc_vars)\n",
    "\n",
    "    t = sigma3_threshold(proc_df, proc_vars)\n",
    "    print('generate_sgi3_one_proc_var')\n",
    "    print('Passou' if len(t) == 2 else 'Não Passou')\n",
    "    pass"
   ]
  },
  {
   "cell_type": "code",
   "execution_count": 3,
   "metadata": {},
   "outputs": [],
   "source": [
    "def generate_sgi3_two_proc_var_two_alarm_var():\n",
    "    proc_vars = ['XMEAS01', 'XMEAS02']\n",
    "    proc_data = np.random.normal(0, 1, size=(100, len(proc_vars)))\n",
    "    proc_index = pd.DatetimeIndex(start=time(), periods=len(proc_data), freq='36S')\n",
    "    proc_df = pd.DataFrame(data=proc_data, index=proc_index, columns=proc_vars)\n",
    "\n",
    "    t = sigma3_threshold(proc_df, proc_vars)\n",
    "    print('generate_sgi3_two_proc_var_two_alarm_var')\n",
    "    print('Passou' if len(t) is 4 else 'Não Passou')\n",
    "    pass"
   ]
  },
  {
   "cell_type": "code",
   "execution_count": 4,
   "metadata": {},
   "outputs": [],
   "source": [
    "def generate_sgi3_two_proc_var_one_alarm_var():\n",
    "    proc_vars = ['XMEAS01', 'XMEAS02']\n",
    "    proc_data = np.random.normal(0, 1, size=(100, len(proc_vars)))\n",
    "    proc_index = pd.DatetimeIndex(start=time(), periods=len(proc_data), freq='36S')\n",
    "    proc_df = pd.DataFrame(data=proc_data, index=proc_index, columns=proc_vars)\n",
    "\n",
    "    t = sigma3_threshold(proc_df, [proc_vars[0]])\n",
    "    print('generate_sgi3_two_proc_var_one_alarm_var')\n",
    "    print('Passou' if len(t) is 2 else 'Não Passou')\n",
    "    pass"
   ]
  },
  {
   "cell_type": "code",
   "execution_count": 5,
   "metadata": {},
   "outputs": [],
   "source": [
    "def generate_sgi3_two_proc_var_one_alarm_var_no_list():\n",
    "    proc_vars = ['XMEAS01', 'XMEAS02']\n",
    "    proc_data = np.random.normal(0, 1, size=(100, len(proc_vars)))\n",
    "    proc_index = pd.DatetimeIndex(start=time(), periods=len(proc_data), freq='36S')\n",
    "    proc_df = pd.DataFrame(data=proc_data, index=proc_index, columns=proc_vars)\n",
    "\n",
    "    t = sigma3_threshold(proc_df, proc_vars[0])\n",
    "    print('generate_sgi3_two_proc_var_one_alarm_var_no_list')\n",
    "    print('Passou' if len(t) is 2 else 'Não Passou')\n",
    "    pass"
   ]
  },
  {
   "cell_type": "code",
   "execution_count": 6,
   "metadata": {},
   "outputs": [],
   "source": [
    "def generate_sgi3_two_proc_var_no_alarm_var():\n",
    "    proc_vars = ['XMEAS01', 'XMEAS02']\n",
    "    proc_data = np.random.normal(0, 1, size=(100, len(proc_vars)))\n",
    "    proc_index = pd.DatetimeIndex(start=time(), periods=len(proc_data), freq='36S')\n",
    "    proc_df = pd.DataFrame(data=proc_data, index=proc_index, columns=proc_vars)\n",
    "\n",
    "    t = sigma3_threshold(proc_df)\n",
    "    print('generate_sgi3_two_proc_var_no_alarm_var')\n",
    "    print('Passou' if len(t) is 4 else 'Não Passou')\n",
    "    pass"
   ]
  },
  {
   "cell_type": "code",
   "execution_count": 7,
   "metadata": {},
   "outputs": [
    {
     "name": "stdout",
     "output_type": "stream",
     "text": [
      "generate_sgi3_one_proc_var\n",
      "Passou\n",
      "generate_sgi3_two_proc_var_two_alarm_var\n",
      "Passou\n",
      "generate_sgi3_two_proc_var_one_alarm_var\n",
      "Passou\n",
      "generate_sgi3_two_proc_var_one_alarm_var_no_list\n",
      "Passou\n",
      "generate_sgi3_two_proc_var_no_alarm_var\n",
      "Passou\n"
     ]
    }
   ],
   "source": [
    "generate_sgi3_one_proc_var()\n",
    "generate_sgi3_two_proc_var_two_alarm_var()\n",
    "generate_sgi3_two_proc_var_one_alarm_var()\n",
    "generate_sgi3_two_proc_var_one_alarm_var_no_list()\n",
    "generate_sgi3_two_proc_var_no_alarm_var()"
   ]
  }
 ],
 "metadata": {
  "kernelspec": {
   "display_name": "Python 3",
   "language": "python",
   "name": "python3"
  },
  "language_info": {
   "codemirror_mode": {
    "name": "ipython",
    "version": 3
   },
   "file_extension": ".py",
   "mimetype": "text/x-python",
   "name": "python",
   "nbconvert_exporter": "python",
   "pygments_lexer": "ipython3",
   "version": "3.6.4"
  }
 },
 "nbformat": 4,
 "nbformat_minor": 2
}
