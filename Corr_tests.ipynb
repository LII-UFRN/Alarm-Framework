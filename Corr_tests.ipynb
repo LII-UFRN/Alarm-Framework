{
 "cells": [
  {
   "cell_type": "code",
   "execution_count": 1,
   "metadata": {},
   "outputs": [],
   "source": [
    "from time import time\n",
    "\n",
    "import numpy as np\n",
    "import pandas as pd\n",
    "\n",
    "from alarm_framework.alarm_tunnig.corr import *\n"
   ]
  },
  {
   "cell_type": "code",
   "execution_count": 12,
   "metadata": {},
   "outputs": [],
   "source": [
    "def generate_corr_two_proc_var_two_alarm_var():\n",
    "    proc_vars = ['XMEAS01', 'XMEAS02']\n",
    "    proc_data = np.random.normal(0, 1, size=(100, len(proc_vars)))\n",
    "    proc_index = pd.DatetimeIndex(start=time(), periods=len(proc_data), freq='36S')\n",
    "    proc_df = pd.DataFrame(data=proc_data, index=proc_index, columns=proc_vars)\n",
    "\n",
    "    t = correlation_threshold(proc_df, proc_vars, proc_df.mean())\n",
    "    print('generate_corr_two_proc_var_two_alarm_var')\n",
    "    print('Passou' if len(t) is 2 else 'Não Passou')\n",
    "    print(t[0].alm_type, t[1].alm_type)\n",
    "    pass"
   ]
  },
  {
   "cell_type": "code",
   "execution_count": 19,
   "metadata": {},
   "outputs": [
    {
     "name": "stdout",
     "output_type": "stream",
     "text": [
      "generate_corr_two_proc_var_two_alarm_var\n",
      "Passou\n",
      "HIGH HIGH\n"
     ]
    }
   ],
   "source": [
    "generate_corr_two_proc_var_two_alarm_var()"
   ]
  }
 ],
 "metadata": {
  "kernelspec": {
   "display_name": "Python 3",
   "language": "python",
   "name": "python3"
  },
  "language_info": {
   "codemirror_mode": {
    "name": "ipython",
    "version": 3
   },
   "file_extension": ".py",
   "mimetype": "text/x-python",
   "name": "python",
   "nbconvert_exporter": "python",
   "pygments_lexer": "ipython3",
   "version": "3.6.4"
  }
 },
 "nbformat": 4,
 "nbformat_minor": 2
}
