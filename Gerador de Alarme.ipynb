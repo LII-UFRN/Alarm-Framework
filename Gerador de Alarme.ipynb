{
 "cells": [
  {
   "cell_type": "code",
   "execution_count": 1,
   "metadata": {},
   "outputs": [],
   "source": [
    "import numpy as np\n",
    "import pandas as pd\n",
    "import matplotlib.pyplot as plt\n",
    "#data_process = pd.read_csv(\"entrada.csv\")\n",
    "alarm_var = pd.read_csv(\"alarm_list.csv\")"
   ]
  },
  {
   "cell_type": "code",
   "execution_count": 2,
   "metadata": {},
   "outputs": [],
   "source": [
    "def step_signal (low, high, s_low=0.2, s_high=0.2, larg_high_i=20, larg_high_f=100, larg_low_i=20, larg_low_f=100, prob_positivo=0.5, n=100):\n",
    "       \n",
    "    distrib = np.random.binomial(1,prob_positivo,n)\n",
    "    signal = np.concatenate([np.random.uniform(high-s_high,high+s_high,np.random.randint(larg_high_i, larg_high_f)) if x == 1 else np.random.uniform(low-s_low,low+s_low,np.random.randint(larg_low_i, larg_low_f)) for x in distrib])\n",
    "    return signal\n"
   ]
  },
  {
   "cell_type": "code",
   "execution_count": 78,
   "metadata": {},
   "outputs": [],
   "source": [
    "def alarm_seq (df,v_list):\n",
    "    seq = []\n",
    "    for v in v_list:\n",
    "        seq.append(alarm_generate(df[v[\"proces_var\"]],v))\n",
    "    \n",
    "    return seq"
   ]
  },
  {
   "cell_type": "code",
   "execution_count": 69,
   "metadata": {},
   "outputs": [],
   "source": [
    "def alarm_generate(df, var_list):\n",
    "    '''alarm_generate is a function when return a vector '''\n",
    "    \n",
    "    t_delay = 0\n",
    "    t_dead = 0\n",
    "    log_alarm = np.arange(len(df))\n",
    "    #print(x)\n",
    "    if var_list[\"type_var\"] == 'high':\n",
    "        for i in np.arange(len(df)):\n",
    "            if df[i] > var_list[\"limit\"]:\n",
    "                t_dead = 0\n",
    "                t_delay = t_delay + 3/len(df)\n",
    "                if t_delay >= var_list[\"delay_time\"]:\n",
    "                    log_alarm[i] = 1\n",
    "                else:\n",
    "                    log_alarm[i] = 0\n",
    "            else:\n",
    "                if log_alarm[i-1] == 1:\n",
    "                    t_dead = t_dead + 3/len(df)\n",
    "                    if t_dead >= var_list[\"dead_band_delay\"]:\n",
    "                        log_alarm[i] = 0\n",
    "                        t_delay = 0\n",
    "                        t_dead = 0\n",
    "                    else:\n",
    "                        log_alarm[i] = 1\n",
    "                else:\n",
    "                    t_delay = 0\n",
    "                    t_dead = 0\n",
    "                    log_alarm[i] = 0\n",
    "    else:\n",
    "        for i in np.arange(len(df)):\n",
    "            if df[i] < limit:\n",
    "                t_dead = 0\n",
    "                t_delay = t_delay + 3/len(df)\n",
    "                if t_delay >= var_list[\"delay_time\"]:\n",
    "                    log_alarm[i] = 1\n",
    "                else:\n",
    "                    log_alarm[i] = 0\n",
    "            else:\n",
    "                if log_alarm[i-1] == 1:\n",
    "                    t_dead = t_dead + 3/len(df)\n",
    "                    if t_dead >= var_list[\"dead_band_delay\"]:\n",
    "                        log_alarm[i] = 0\n",
    "                        t_delay = 0\n",
    "                        t_dead = 0\n",
    "                    else:\n",
    "                        log_alarm[i] = 1\n",
    "                else:\n",
    "                    t_delay = 0\n",
    "                    t_dead = 0\n",
    "                    log_alarm[i] = 0\n",
    "\n",
    "    return log_alarm"
   ]
  },
  {
   "cell_type": "code",
   "execution_count": 4,
   "metadata": {},
   "outputs": [],
   "source": [
    "x_ = []\n",
    "for i in np.arange(10):\n",
    "    x_.append(step_signal(3,7))"
   ]
  },
  {
   "cell_type": "code",
   "execution_count": 5,
   "metadata": {},
   "outputs": [],
   "source": [
    "for i in np.arange(10):\n",
    "    if len(x_[0]) > len(x_[i]):\n",
    "        if x_[i][-1] >= 2.8 and x_[i][-1] <= 3.2:\n",
    "            x_[i] = np.concatenate((x_[i],np.random.uniform(3-0.2,3+0.2,len(x_[0])-len(x_[i]))))\n",
    "        elif x_[i][-1] >= 6.7 and x_[i][-1] <= 7.3:\n",
    "            x_[i] = np.concatenate((x_[i],np.random.uniform(7-0.3,7+0.3,len(x_[0])-len(x_[i]))))\n",
    "    else:\n",
    "        delete = np.nonzero(x_[i][len(x_[0]):])\n",
    "        x_[i] = np.delete(x_[i],delete)\n",
    "    \n",
    "    \n",
    "limit = 5 \n",
    "type_ = 'high' \n",
    "delay_time = 100*3/len(x_[0])\n",
    "dead_band_delay = 70*3/len(x_[0])\n",
    "t_delay = 0\n",
    "df = pd.DataFrame()\n",
    "for i in np.arange(10):\n",
    "    df['x'+str(i)] = x_[i]\n",
    "    \n",
    "tout = np.arange(0,3,3/len(x_[0]),dtype=float)    \n",
    "df.insert(0,'tout',tout)"
   ]
  },
  {
   "cell_type": "code",
   "execution_count": 49,
   "metadata": {},
   "outputs": [],
   "source": [
    "var_list = [{\n",
    "    \"limit\": 5,\n",
    "    \"type_var\":'high', \n",
    "    \"delay_time\" : 100*3/len(x_[0]), \n",
    "    \"dead_band_delay\" : 70*3/len(x_[0]),\n",
    "    \"proces_var\": 'x0'\n",
    "    },\n",
    "    {\n",
    "    \"limit\": 5,\n",
    "    \"type_var\":'low', \n",
    "    \"delay_time\" : 100*3/len(x_[0]), \n",
    "    \"dead_band_delay\" : 70*3/len(x_[0]),\n",
    "    \"proces_var\": 'x1'    \n",
    "    },\n",
    "    {\n",
    "    \"limit\": 4.5,\n",
    "    \"type_var\":'high', \n",
    "    \"delay_time\" : 100*3/len(x_[0]), \n",
    "    \"dead_band_delay\" : 70*3/len(x_[0]),\n",
    "    \"proces_var\": 'x2'\n",
    "    },\n",
    "    {\n",
    "    \"limit\": 6,\n",
    "    \"type_var\":'low', \n",
    "    \"delay_time\" : 100*3/len(x_[0]), \n",
    "    \"dead_band_delay\" : 70*3/len(x_[0]),\n",
    "    \"proces_var\": 'x3'\n",
    "    }\n",
    "]"
   ]
  },
  {
   "cell_type": "code",
   "execution_count": 54,
   "metadata": {},
   "outputs": [],
   "source": [
    "\n",
    "# log = []\n",
    "# for i in np.arange(10):\n",
    "#     log.append(alarm_generate(df, var_list))\n",
    "    \n",
    "\n",
    "df_log = pd.DataFrame\n",
    "df_log = alarm_generate(df['x0'], var_list[0])"
   ]
  },
  {
   "cell_type": "code",
   "execution_count": 12,
   "metadata": {},
   "outputs": [],
   "source": [
    "?alarm_generate"
   ]
  },
  {
   "cell_type": "code",
   "execution_count": 13,
   "metadata": {},
   "outputs": [],
   "source": [
    "x1 = []\n",
    "\n",
    "df_new = df.drop(['tout'],axis=1)\n",
    "\n",
    "for i in np.arange(10):\n",
    "    x1.append(df_new['x'+str(i)])\n",
    "    \n",
    "\n",
    "#df_new = df.drop(['tout'],axis=1).as_matrix()"
   ]
  },
  {
   "cell_type": "code",
   "execution_count": 62,
   "metadata": {},
   "outputs": [
    {
     "data": {
      "text/plain": [
       "'x0'"
      ]
     },
     "execution_count": 62,
     "metadata": {},
     "output_type": "execute_result"
    }
   ],
   "source": [
    "var_list[0][\"proces_var\"]"
   ]
  },
  {
   "cell_type": "code",
   "execution_count": 53,
   "metadata": {},
   "outputs": [
    {
     "data": {
      "text/plain": [
       "[<matplotlib.lines.Line2D at 0x7fd5ced03630>]"
      ]
     },
     "execution_count": 53,
     "metadata": {},
     "output_type": "execute_result"
    },
    {
     "data": {
      "image/png": "[encoded data removed]",
      "text/plain": [
       "<matplotlib.figure.Figure at 0x7fd5ce5314a8>"
      ]
     },
     "metadata": {},
     "output_type": "display_data"
    }
   ],
   "source": [
    "plt.figure(figsize=(16,4))\n",
    "plt.plot(df['x0'])\n",
    "plt.plot(df_log*4+3)"
   ]
  },
  {
   "cell_type": "code",
   "execution_count": 79,
   "metadata": {},
   "outputs": [],
   "source": [
    "df_log = pd.DataFrame\n",
    "df_log = alarm_seq(df,var_list)"
   ]
  },
  {
   "cell_type": "code",
   "execution_count": 80,
   "metadata": {},
   "outputs": [
    {
     "data": {
      "text/plain": [
       "[array([0, 0, 0, ..., 0, 0, 0]),\n",
       " array([0, 0, 0, ..., 0, 1, 1]),\n",
       " array([0, 0, 0, ..., 0, 0, 0]),\n",
       " array([0, 0, 0, ..., 0, 0, 0])]"
      ]
     },
     "execution_count": 80,
     "metadata": {},
     "output_type": "execute_result"
    }
   ],
   "source": [
    "df_log"
   ]
  },
  {
   "cell_type": "code",
   "execution_count": null,
   "metadata": {},
   "outputs": [],
   "source": []
  }
 ],
 "metadata": {
  "kernelspec": {
   "display_name": "Python 3",
   "language": "python",
   "name": "python3"
  },
  "language_info": {
   "codemirror_mode": {
    "name": "ipython",
    "version": 3
   },
   "file_extension": ".py",
   "mimetype": "text/x-python",
   "name": "python",
   "nbconvert_exporter": "python",
   "pygments_lexer": "ipython3",
   "version": "3.6.4"
  }
 },
 "nbformat": 4,
 "nbformat_minor": 2
}
